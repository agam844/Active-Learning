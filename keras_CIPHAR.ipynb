{
  "cells": [
    {
      "cell_type": "markdown",
      "metadata": {
        "id": "view-in-github",
        "colab_type": "text"
      },
      "source": [
        "<a href=\"https://colab.research.google.com/github/agam844/Active-Learning/blob/main/keras_CIPHAR.ipynb\" target=\"_parent\"><img src=\"https://colab.research.google.com/assets/colab-badge.svg\" alt=\"Open In Colab\"/></a>"
      ]
    },
    {
      "cell_type": "code",
      "execution_count": null,
      "metadata": {
        "id": "oP8o0k3cX86e"
      },
      "outputs": [],
      "source": [
        "import tensorflow as tf\n",
        "from tensorflow.keras.datasets import cifar10\n",
        "from tensorflow.keras.utils import to_categorical\n",
        "import numpy as np\n",
        "import pandas as pd\n",
        "import random"
      ]
    },
    {
      "cell_type": "markdown",
      "metadata": {
        "id": "Nq25Ji7Bg0hI"
      },
      "source": [
        "Training on the entire dataset"
      ]
    },
    {
      "cell_type": "code",
      "execution_count": null,
      "metadata": {
        "id": "6gpJxqk9Ys80",
        "colab": {
          "base_uri": "https://localhost:8080/"
        },
        "outputId": "329281d0-a969-4d06-a474-035dbae7e0a2"
      },
      "outputs": [
        {
          "output_type": "stream",
          "name": "stdout",
          "text": [
            "Downloading data from https://www.cs.toronto.edu/~kriz/cifar-10-python.tar.gz\n",
            "170498071/170498071 [==============================] - 4s 0us/step\n"
          ]
        }
      ],
      "source": [
        "(x_train, y_train), (x_test, y_test) = cifar10.load_data()"
      ]
    },
    {
      "cell_type": "code",
      "execution_count": null,
      "metadata": {
        "id": "YutmhSGzaIHd"
      },
      "outputs": [],
      "source": [
        "# Preprocess the data\n",
        "x_train = x_train.astype('float32') / 255.0\n",
        "x_test = x_test.astype('float32') / 255.0\n",
        "y_train = to_categorical(y_train, num_classes=10)\n",
        "y_test = to_categorical(y_test, num_classes=10)"
      ]
    },
    {
      "cell_type": "code",
      "execution_count": null,
      "metadata": {
        "id": "mUGeW4UZY2Jh"
      },
      "outputs": [],
      "source": [
        "model = tf.keras.Sequential([\n",
        "    tf.keras.layers.Conv2D(16, (3, 3), padding='same', activation='relu', input_shape=(32, 32, 3)),\n",
        "    tf.keras.layers.MaxPooling2D(pool_size=(2, 2)),\n",
        "    tf.keras.layers.Dropout(0.25),\n",
        "    tf.keras.layers.Conv2D(32, (3, 3), padding='same', activation='relu'),\n",
        "    tf.keras.layers.MaxPooling2D(pool_size=(2, 2)),\n",
        "    tf.keras.layers.Dropout(0.25),\n",
        "    tf.keras.layers.Flatten(),\n",
        "    tf.keras.layers.Dense(128, activation='relu'),\n",
        "    tf.keras.layers.Dropout(0.5),\n",
        "    tf.keras.layers.Dense(10, activation='softmax')\n",
        "])\n",
        "\n",
        "optimizer = tf.keras.optimizers.Adam(learning_rate=0.001)\n",
        "\n",
        "model.compile(optimizer= optimizer, loss='categorical_crossentropy', metrics=['accuracy'])"
      ]
    },
    {
      "cell_type": "code",
      "source": [
        "# model = tf.keras.Sequential([\n",
        "#     tf.keras.layers.Conv2D(16, (3, 3), padding='same', activation='relu', input_shape=(32, 32, 3)),\n",
        "#     tf.keras.layers.MaxPooling2D(pool_size=(2, 2)),\n",
        "#     tf.keras.layers.Flatten(),\n",
        "#     tf.keras.layers.Dense(128, activation='relu'),\n",
        "#     tf.keras.layers.Dense(10, activation='softmax')\n",
        "# ])\n",
        "\n",
        "# model.compile(optimizer='adam', loss='categorical_crossentropy', metrics=['accuracy'])"
      ],
      "metadata": {
        "id": "84nDrkrnQmgG"
      },
      "execution_count": null,
      "outputs": []
    },
    {
      "cell_type": "code",
      "execution_count": null,
      "metadata": {
        "colab": {
          "base_uri": "https://localhost:8080/"
        },
        "id": "oIzaeBOnY6J_",
        "outputId": "664f30f1-042c-4baa-8a9b-46f308fde6c9"
      },
      "outputs": [
        {
          "output_type": "stream",
          "name": "stdout",
          "text": [
            "Epoch 1/100\n",
            "782/782 [==============================] - 16s 6ms/step - loss: 1.7800 - accuracy: 0.3494 - val_loss: 1.4234 - val_accuracy: 0.5012\n",
            "Epoch 2/100\n",
            "782/782 [==============================] - 4s 5ms/step - loss: 1.4744 - accuracy: 0.4666 - val_loss: 1.2832 - val_accuracy: 0.5410\n",
            "Epoch 3/100\n",
            "782/782 [==============================] - 5s 6ms/step - loss: 1.3687 - accuracy: 0.5072 - val_loss: 1.1980 - val_accuracy: 0.5725\n",
            "Epoch 4/100\n",
            "782/782 [==============================] - 4s 5ms/step - loss: 1.3064 - accuracy: 0.5341 - val_loss: 1.1307 - val_accuracy: 0.6064\n",
            "Epoch 5/100\n",
            "782/782 [==============================] - 4s 5ms/step - loss: 1.2527 - accuracy: 0.5540 - val_loss: 1.1043 - val_accuracy: 0.6109\n",
            "Epoch 6/100\n",
            "782/782 [==============================] - 5s 6ms/step - loss: 1.2102 - accuracy: 0.5686 - val_loss: 1.0484 - val_accuracy: 0.6320\n",
            "Epoch 7/100\n",
            "782/782 [==============================] - 4s 6ms/step - loss: 1.1849 - accuracy: 0.5807 - val_loss: 1.0625 - val_accuracy: 0.6357\n",
            "Epoch 8/100\n",
            "782/782 [==============================] - 4s 6ms/step - loss: 1.1585 - accuracy: 0.5878 - val_loss: 0.9981 - val_accuracy: 0.6511\n",
            "Epoch 9/100\n",
            "782/782 [==============================] - 4s 6ms/step - loss: 1.1387 - accuracy: 0.5933 - val_loss: 1.0021 - val_accuracy: 0.6528\n",
            "Epoch 10/100\n",
            "782/782 [==============================] - 4s 5ms/step - loss: 1.1166 - accuracy: 0.6030 - val_loss: 0.9706 - val_accuracy: 0.6644\n",
            "Epoch 11/100\n",
            "782/782 [==============================] - 4s 5ms/step - loss: 1.0987 - accuracy: 0.6102 - val_loss: 0.9649 - val_accuracy: 0.6636\n",
            "Epoch 12/100\n",
            "782/782 [==============================] - 5s 6ms/step - loss: 1.0833 - accuracy: 0.6181 - val_loss: 0.9307 - val_accuracy: 0.6756\n",
            "Epoch 13/100\n",
            "782/782 [==============================] - 4s 5ms/step - loss: 1.0683 - accuracy: 0.6195 - val_loss: 0.9380 - val_accuracy: 0.6742\n",
            "Epoch 14/100\n",
            "782/782 [==============================] - 4s 5ms/step - loss: 1.0596 - accuracy: 0.6254 - val_loss: 0.9105 - val_accuracy: 0.6828\n",
            "Epoch 15/100\n",
            "782/782 [==============================] - 4s 5ms/step - loss: 1.0426 - accuracy: 0.6296 - val_loss: 0.9165 - val_accuracy: 0.6826\n",
            "Epoch 16/100\n",
            "782/782 [==============================] - 4s 5ms/step - loss: 1.0402 - accuracy: 0.6328 - val_loss: 0.9523 - val_accuracy: 0.6723\n",
            "Epoch 17/100\n",
            "782/782 [==============================] - 4s 5ms/step - loss: 1.0297 - accuracy: 0.6374 - val_loss: 0.9143 - val_accuracy: 0.6783\n"
          ]
        },
        {
          "output_type": "execute_result",
          "data": {
            "text/plain": [
              "<keras.callbacks.History at 0x7f2ee2ff2200>"
            ]
          },
          "metadata": {},
          "execution_count": 8
        }
      ],
      "source": [
        "early_stopping = tf.keras.callbacks.EarlyStopping(patience=3, monitor='val_loss')\n",
        "\n",
        "model.fit(x_train, y_train, batch_size=64, epochs=100, validation_data=(x_test, y_test), callbacks=[early_stopping])"
      ]
    },
    {
      "cell_type": "code",
      "execution_count": null,
      "metadata": {
        "colab": {
          "base_uri": "https://localhost:8080/"
        },
        "id": "Vh1RO17cZsnL",
        "outputId": "2c43e205-9091-41d3-f3fc-70a0d070e437"
      },
      "outputs": [
        {
          "output_type": "stream",
          "name": "stdout",
          "text": [
            "313/313 [==============================] - 1s 3ms/step - loss: 0.9143 - accuracy: 0.6783\n",
            "Test loss: 0.9143\n",
            "Test accuracy: 0.6783\n"
          ]
        }
      ],
      "source": [
        "loss, accuracy = model.evaluate(x_test, y_test)\n",
        "print(f'Test loss: {loss:.4f}')\n",
        "print(f'Test accuracy: {accuracy:.4f}')"
      ]
    },
    {
      "cell_type": "code",
      "execution_count": null,
      "metadata": {
        "id": "CzV7SpJevVqO",
        "colab": {
          "base_uri": "https://localhost:8080/"
        },
        "outputId": "8d0d771c-1142-48a2-f401-dd8f4787c81a"
      },
      "outputs": [
        {
          "output_type": "stream",
          "name": "stdout",
          "text": [
            "313/313 [==============================] - 1s 2ms/step\n",
            "313/313 [==============================] - 1s 2ms/step\n"
          ]
        }
      ],
      "source": [
        "# Get predicted probabilities for test data\n",
        "probabilities = model.predict(x_test)\n",
        "\n",
        "# Get the class labels with the highest probability\n",
        "predictions_int = np.argmax(probabilities, axis=1)\n",
        "\n",
        "# Get predicted probabilities for test data\n",
        "probabilities = model.predict(x_test)\n",
        "\n",
        "# Get the highest probability for each sample\n",
        "max_probabilities = np.max(probabilities, axis=1)"
      ]
    },
    {
      "cell_type": "code",
      "execution_count": null,
      "metadata": {
        "id": "EMjwQWJgvaeS",
        "colab": {
          "base_uri": "https://localhost:8080/"
        },
        "outputId": "9046f1d4-b947-4a74-a7d9-7e1092c733cd"
      },
      "outputs": [
        {
          "output_type": "stream",
          "name": "stdout",
          "text": [
            "[0.14337356 0.14367919 0.14433481 0.14860065 0.15034115 0.15617497\n",
            " 0.15620431 0.15938121 0.15965697 0.16260476]\n"
          ]
        },
        {
          "output_type": "execute_result",
          "data": {
            "text/plain": [
              "10000"
            ]
          },
          "metadata": {},
          "execution_count": 9
        }
      ],
      "source": [
        "print(np.sort(max_probabilities)[:10])\n",
        "len(max_probabilities)"
      ]
    },
    {
      "cell_type": "markdown",
      "metadata": {
        "id": "nZZxYOj0g_B_"
      },
      "source": [
        "Training using active Learning"
      ]
    },
    {
      "cell_type": "code",
      "execution_count": null,
      "metadata": {
        "id": "vfFQaEBSck98"
      },
      "outputs": [],
      "source": [
        "num_entries = min(5000, len(y_train))\n",
        "max_index = len(x_train)\n",
        "random_indices = np.random.choice(max_index, size=num_entries, replace=False)"
      ]
    },
    {
      "cell_type": "code",
      "execution_count": null,
      "metadata": {
        "id": "B_xv9xomhGb_"
      },
      "outputs": [],
      "source": [
        "# Select random entries\n",
        "y_train = np.array(y_train)\n",
        "selected_x_train = x_train[random_indices]\n",
        "selected_y_train = y_train[random_indices]"
      ]
    },
    {
      "cell_type": "code",
      "execution_count": null,
      "metadata": {
        "id": "6qfS3DYKhIy1"
      },
      "outputs": [],
      "source": [
        "remaining_indices = np.setdiff1d(np.arange(max_index), random_indices)\n",
        "remaining_x_train = x_train[remaining_indices]\n",
        "remaining_y_train = y_train[remaining_indices]"
      ]
    },
    {
      "cell_type": "code",
      "execution_count": null,
      "metadata": {
        "id": "fAkDMQ7uhT1i"
      },
      "outputs": [],
      "source": [
        "(x_train1, y_train1), (x_test1, y_test1) = cifar10.load_data()\n",
        "remaining_x_train1 = x_train1[remaining_indices]\n",
        "remaining_y_train1 = y_train1[remaining_indices]"
      ]
    },
    {
      "cell_type": "code",
      "execution_count": null,
      "metadata": {
        "id": "rE4CyijJhL9J",
        "colab": {
          "base_uri": "https://localhost:8080/"
        },
        "outputId": "37631aac-3ed3-4fe8-95e9-5119c3ff1aef"
      },
      "outputs": [
        {
          "output_type": "stream",
          "name": "stdout",
          "text": [
            "Epoch 1/10\n",
            "79/79 [==============================] - 2s 7ms/step - loss: 2.2395 - accuracy: 0.1508\n",
            "Epoch 2/10\n",
            "79/79 [==============================] - 0s 5ms/step - loss: 2.0261 - accuracy: 0.2464\n",
            "Epoch 3/10\n",
            "79/79 [==============================] - 0s 5ms/step - loss: 1.8620 - accuracy: 0.3120\n",
            "Epoch 4/10\n",
            "79/79 [==============================] - 0s 4ms/step - loss: 1.7917 - accuracy: 0.3434\n",
            "Epoch 5/10\n",
            "79/79 [==============================] - 0s 5ms/step - loss: 1.7311 - accuracy: 0.3650\n",
            "Epoch 6/10\n",
            "79/79 [==============================] - 0s 5ms/step - loss: 1.6778 - accuracy: 0.3842\n",
            "Epoch 7/10\n",
            "79/79 [==============================] - 0s 5ms/step - loss: 1.6327 - accuracy: 0.3968\n",
            "Epoch 8/10\n",
            "79/79 [==============================] - 0s 5ms/step - loss: 1.5830 - accuracy: 0.4218\n",
            "Epoch 9/10\n",
            "79/79 [==============================] - 0s 6ms/step - loss: 1.5661 - accuracy: 0.4346\n",
            "Epoch 10/10\n",
            "79/79 [==============================] - 1s 7ms/step - loss: 1.5340 - accuracy: 0.4372\n",
            "1407/1407 [==============================] - 5s 3ms/step - loss: 1.4999 - accuracy: 0.4709\n",
            "Test loss: 1.4999\n",
            "Test accuracy: 0.4709\n",
            "1407/1407 [==============================] - 3s 2ms/step\n",
            "1407/1407 [==============================] - 3s 2ms/step\n",
            "Iteration: 1\n",
            "Number of labeled samples: 7000\n",
            "Number of remaining samples: 43000\n",
            "Epoch 1/10\n",
            "110/110 [==============================] - 2s 6ms/step - loss: 2.1996 - accuracy: 0.1590\n",
            "Epoch 2/10\n",
            "110/110 [==============================] - 1s 5ms/step - loss: 1.9651 - accuracy: 0.2519\n",
            "Epoch 3/10\n",
            "110/110 [==============================] - 1s 5ms/step - loss: 1.8383 - accuracy: 0.3021\n",
            "Epoch 4/10\n",
            "110/110 [==============================] - 1s 5ms/step - loss: 1.7805 - accuracy: 0.3281\n",
            "Epoch 5/10\n",
            "110/110 [==============================] - 1s 5ms/step - loss: 1.7056 - accuracy: 0.3540\n",
            "Epoch 6/10\n",
            "110/110 [==============================] - 1s 5ms/step - loss: 1.6609 - accuracy: 0.3714\n",
            "Epoch 7/10\n",
            "110/110 [==============================] - 1s 5ms/step - loss: 1.6120 - accuracy: 0.3941\n",
            "Epoch 8/10\n",
            "110/110 [==============================] - 1s 5ms/step - loss: 1.5778 - accuracy: 0.3957\n",
            "Epoch 9/10\n",
            "110/110 [==============================] - 0s 4ms/step - loss: 1.5478 - accuracy: 0.4233\n",
            "Epoch 10/10\n",
            "110/110 [==============================] - 1s 5ms/step - loss: 1.5088 - accuracy: 0.4384\n",
            "1344/1344 [==============================] - 4s 3ms/step - loss: 1.3263 - accuracy: 0.5414\n",
            "Test loss: 1.3263\n",
            "Test accuracy: 0.5414\n",
            "1344/1344 [==============================] - 3s 2ms/step\n",
            "1344/1344 [==============================] - 3s 2ms/step\n",
            "Iteration: 2\n",
            "Number of labeled samples: 9000\n",
            "Number of remaining samples: 41000\n",
            "Epoch 1/10\n",
            "141/141 [==============================] - 2s 6ms/step - loss: 2.1981 - accuracy: 0.1632\n",
            "Epoch 2/10\n",
            "141/141 [==============================] - 1s 5ms/step - loss: 2.0075 - accuracy: 0.2314\n",
            "Epoch 3/10\n",
            "141/141 [==============================] - 1s 4ms/step - loss: 1.8847 - accuracy: 0.2813\n",
            "Epoch 4/10\n",
            "141/141 [==============================] - 1s 4ms/step - loss: 1.8346 - accuracy: 0.2991\n",
            "Epoch 5/10\n",
            "141/141 [==============================] - 1s 5ms/step - loss: 1.7661 - accuracy: 0.3292\n",
            "Epoch 6/10\n",
            "141/141 [==============================] - 1s 5ms/step - loss: 1.7103 - accuracy: 0.3479\n",
            "Epoch 7/10\n",
            "141/141 [==============================] - 1s 5ms/step - loss: 1.6663 - accuracy: 0.3702\n",
            "Epoch 8/10\n",
            "141/141 [==============================] - 1s 6ms/step - loss: 1.6394 - accuracy: 0.3698\n",
            "Epoch 9/10\n",
            "141/141 [==============================] - 1s 6ms/step - loss: 1.5847 - accuracy: 0.4019\n",
            "Epoch 10/10\n",
            "141/141 [==============================] - 1s 6ms/step - loss: 1.5577 - accuracy: 0.4092\n",
            "1282/1282 [==============================] - 4s 3ms/step - loss: 1.2927 - accuracy: 0.5789\n",
            "Test loss: 1.2927\n",
            "Test accuracy: 0.5789\n",
            "1282/1282 [==============================] - 2s 2ms/step\n",
            "1282/1282 [==============================] - 2s 2ms/step\n",
            "Iteration: 3\n",
            "Number of labeled samples: 11000\n",
            "Number of remaining samples: 39000\n",
            "Epoch 1/10\n",
            "172/172 [==============================] - 3s 6ms/step - loss: 2.1391 - accuracy: 0.1762\n",
            "Epoch 2/10\n",
            "172/172 [==============================] - 1s 5ms/step - loss: 1.9254 - accuracy: 0.2616\n",
            "Epoch 3/10\n",
            "172/172 [==============================] - 1s 5ms/step - loss: 1.8478 - accuracy: 0.2823\n",
            "Epoch 4/10\n",
            "172/172 [==============================] - 1s 6ms/step - loss: 1.7805 - accuracy: 0.3166\n",
            "Epoch 5/10\n",
            "172/172 [==============================] - 1s 6ms/step - loss: 1.7473 - accuracy: 0.3262\n",
            "Epoch 6/10\n",
            "172/172 [==============================] - 1s 5ms/step - loss: 1.6954 - accuracy: 0.3514\n",
            "Epoch 7/10\n",
            "172/172 [==============================] - 1s 5ms/step - loss: 1.6746 - accuracy: 0.3535\n",
            "Epoch 8/10\n",
            "172/172 [==============================] - 1s 5ms/step - loss: 1.6414 - accuracy: 0.3670\n",
            "Epoch 9/10\n",
            "172/172 [==============================] - 1s 5ms/step - loss: 1.6093 - accuracy: 0.3853\n",
            "Epoch 10/10\n",
            "172/172 [==============================] - 1s 5ms/step - loss: 1.5845 - accuracy: 0.3914\n",
            "1219/1219 [==============================] - 4s 3ms/step - loss: 1.2495 - accuracy: 0.6062\n",
            "Test loss: 1.2495\n",
            "Test accuracy: 0.6062\n",
            "1219/1219 [==============================] - 2s 2ms/step\n",
            "1219/1219 [==============================] - 2s 2ms/step\n",
            "Iteration: 4\n",
            "Number of labeled samples: 13000\n",
            "Number of remaining samples: 37000\n",
            "Epoch 1/10\n",
            "204/204 [==============================] - 3s 5ms/step - loss: 2.1386 - accuracy: 0.1916\n",
            "Epoch 2/10\n",
            "204/204 [==============================] - 1s 5ms/step - loss: 1.9673 - accuracy: 0.2448\n",
            "Epoch 3/10\n",
            "204/204 [==============================] - 1s 5ms/step - loss: 1.8601 - accuracy: 0.2805\n",
            "Epoch 4/10\n",
            "204/204 [==============================] - 1s 5ms/step - loss: 1.7920 - accuracy: 0.2972\n",
            "Epoch 5/10\n",
            "204/204 [==============================] - 1s 5ms/step - loss: 1.7450 - accuracy: 0.3251\n",
            "Epoch 6/10\n",
            "204/204 [==============================] - 1s 5ms/step - loss: 1.7107 - accuracy: 0.3386\n",
            "Epoch 7/10\n",
            "204/204 [==============================] - 1s 5ms/step - loss: 1.6751 - accuracy: 0.3543\n",
            "Epoch 8/10\n",
            "204/204 [==============================] - 1s 5ms/step - loss: 1.6468 - accuracy: 0.3606\n",
            "Epoch 9/10\n",
            "204/204 [==============================] - 1s 5ms/step - loss: 1.6048 - accuracy: 0.3845\n",
            "Epoch 10/10\n",
            "204/204 [==============================] - 1s 6ms/step - loss: 1.5833 - accuracy: 0.3942\n",
            "1157/1157 [==============================] - 4s 3ms/step - loss: 1.2303 - accuracy: 0.6092\n",
            "Test loss: 1.2303\n",
            "Test accuracy: 0.6092\n",
            "1157/1157 [==============================] - 3s 2ms/step\n",
            "1157/1157 [==============================] - 2s 2ms/step\n",
            "Iteration: 5\n",
            "Number of labeled samples: 15000\n",
            "Number of remaining samples: 35000\n",
            "Epoch 1/10\n",
            "235/235 [==============================] - 3s 5ms/step - loss: 2.1246 - accuracy: 0.1815\n",
            "Epoch 2/10\n",
            "235/235 [==============================] - 1s 6ms/step - loss: 1.9251 - accuracy: 0.2515\n",
            "Epoch 3/10\n",
            "235/235 [==============================] - 2s 6ms/step - loss: 1.8422 - accuracy: 0.2805\n",
            "Epoch 4/10\n",
            "235/235 [==============================] - 1s 5ms/step - loss: 1.7808 - accuracy: 0.3059\n",
            "Epoch 5/10\n",
            "235/235 [==============================] - 1s 5ms/step - loss: 1.7337 - accuracy: 0.3254\n",
            "Epoch 6/10\n",
            "235/235 [==============================] - 1s 5ms/step - loss: 1.6840 - accuracy: 0.3461\n",
            "Epoch 7/10\n",
            "235/235 [==============================] - 1s 5ms/step - loss: 1.6527 - accuracy: 0.3610\n",
            "Epoch 8/10\n",
            "235/235 [==============================] - 1s 5ms/step - loss: 1.6183 - accuracy: 0.3761\n",
            "Epoch 9/10\n",
            "235/235 [==============================] - 1s 5ms/step - loss: 1.5868 - accuracy: 0.3881\n",
            "Epoch 10/10\n",
            "235/235 [==============================] - 1s 5ms/step - loss: 1.5475 - accuracy: 0.4071\n",
            "1094/1094 [==============================] - 4s 4ms/step - loss: 1.1564 - accuracy: 0.6457\n",
            "Test loss: 1.1564\n",
            "Test accuracy: 0.6457\n",
            "1094/1094 [==============================] - 2s 2ms/step\n",
            "1094/1094 [==============================] - 2s 2ms/step\n",
            "Iteration: 6\n",
            "Number of labeled samples: 17000\n",
            "Number of remaining samples: 33000\n",
            "Epoch 1/10\n",
            "266/266 [==============================] - 3s 5ms/step - loss: 2.1297 - accuracy: 0.1873\n",
            "Epoch 2/10\n",
            "266/266 [==============================] - 1s 5ms/step - loss: 1.9545 - accuracy: 0.2421\n",
            "Epoch 3/10\n",
            "266/266 [==============================] - 1s 5ms/step - loss: 1.8748 - accuracy: 0.2688\n",
            "Epoch 4/10\n",
            "266/266 [==============================] - 1s 5ms/step - loss: 1.8218 - accuracy: 0.2824\n",
            "Epoch 5/10\n",
            "266/266 [==============================] - 1s 5ms/step - loss: 1.7752 - accuracy: 0.3028\n",
            "Epoch 6/10\n",
            "266/266 [==============================] - 2s 6ms/step - loss: 1.7424 - accuracy: 0.3195\n",
            "Epoch 7/10\n",
            "266/266 [==============================] - 1s 6ms/step - loss: 1.6987 - accuracy: 0.3312\n",
            "Epoch 8/10\n",
            "266/266 [==============================] - 1s 5ms/step - loss: 1.6721 - accuracy: 0.3435\n",
            "Epoch 9/10\n",
            "266/266 [==============================] - 1s 5ms/step - loss: 1.6416 - accuracy: 0.3575\n",
            "Epoch 10/10\n",
            "266/266 [==============================] - 1s 5ms/step - loss: 1.6172 - accuracy: 0.3708\n",
            "1032/1032 [==============================] - 3s 3ms/step - loss: 1.1609 - accuracy: 0.6546\n",
            "Test loss: 1.1609\n",
            "Test accuracy: 0.6546\n",
            "1032/1032 [==============================] - 2s 2ms/step\n",
            "1032/1032 [==============================] - 2s 2ms/step\n",
            "Iteration: 7\n",
            "Number of labeled samples: 19000\n",
            "Number of remaining samples: 31000\n",
            "Epoch 1/10\n",
            "297/297 [==============================] - 3s 5ms/step - loss: 2.1588 - accuracy: 0.1782\n",
            "Epoch 2/10\n",
            "297/297 [==============================] - 1s 5ms/step - loss: 1.9539 - accuracy: 0.2456\n",
            "Epoch 3/10\n",
            "297/297 [==============================] - 2s 6ms/step - loss: 1.8761 - accuracy: 0.2718\n",
            "Epoch 4/10\n",
            "297/297 [==============================] - 2s 7ms/step - loss: 1.8091 - accuracy: 0.2872\n",
            "Epoch 5/10\n",
            "297/297 [==============================] - 2s 5ms/step - loss: 1.7743 - accuracy: 0.3091\n",
            "Epoch 6/10\n",
            "297/297 [==============================] - 2s 5ms/step - loss: 1.7291 - accuracy: 0.3236\n",
            "Epoch 7/10\n",
            "297/297 [==============================] - 2s 5ms/step - loss: 1.6942 - accuracy: 0.3383\n",
            "Epoch 8/10\n",
            "297/297 [==============================] - 1s 5ms/step - loss: 1.6525 - accuracy: 0.3555\n",
            "Epoch 9/10\n",
            "297/297 [==============================] - 1s 5ms/step - loss: 1.6238 - accuracy: 0.3631\n",
            "Epoch 10/10\n",
            "297/297 [==============================] - 1s 5ms/step - loss: 1.5883 - accuracy: 0.3864\n",
            "969/969 [==============================] - 3s 3ms/step - loss: 1.1257 - accuracy: 0.6688\n",
            "Test loss: 1.1257\n",
            "Test accuracy: 0.6688\n",
            "969/969 [==============================] - 2s 2ms/step\n",
            "969/969 [==============================] - 2s 2ms/step\n",
            "Iteration: 8\n",
            "Number of labeled samples: 21000\n",
            "Number of remaining samples: 29000\n",
            "Epoch 1/10\n",
            "329/329 [==============================] - 3s 5ms/step - loss: 2.1194 - accuracy: 0.1904\n",
            "Epoch 2/10\n",
            "329/329 [==============================] - 2s 6ms/step - loss: 1.9159 - accuracy: 0.2580\n",
            "Epoch 3/10\n",
            "329/329 [==============================] - 2s 7ms/step - loss: 1.8344 - accuracy: 0.2865\n",
            "Epoch 4/10\n",
            "329/329 [==============================] - 2s 6ms/step - loss: 1.7775 - accuracy: 0.3037\n",
            "Epoch 5/10\n",
            "329/329 [==============================] - 2s 5ms/step - loss: 1.7304 - accuracy: 0.3270\n",
            "Epoch 6/10\n",
            "329/329 [==============================] - 2s 5ms/step - loss: 1.6879 - accuracy: 0.3405\n",
            "Epoch 7/10\n",
            "329/329 [==============================] - 2s 5ms/step - loss: 1.6558 - accuracy: 0.3575\n",
            "Epoch 8/10\n",
            "329/329 [==============================] - 2s 5ms/step - loss: 1.6293 - accuracy: 0.3703\n",
            "Epoch 9/10\n",
            "329/329 [==============================] - 2s 5ms/step - loss: 1.6005 - accuracy: 0.3828\n",
            "Epoch 10/10\n",
            "329/329 [==============================] - 2s 6ms/step - loss: 1.5792 - accuracy: 0.3924\n",
            "907/907 [==============================] - 3s 3ms/step - loss: 1.1013 - accuracy: 0.6891\n",
            "Test loss: 1.1013\n",
            "Test accuracy: 0.6891\n",
            "907/907 [==============================] - 2s 2ms/step\n",
            "907/907 [==============================] - 2s 2ms/step\n",
            "Iteration: 9\n",
            "Number of labeled samples: 23000\n",
            "Number of remaining samples: 27000\n",
            "Epoch 1/10\n",
            "360/360 [==============================] - 3s 5ms/step - loss: 2.1314 - accuracy: 0.1957\n",
            "Epoch 2/10\n",
            "360/360 [==============================] - 2s 5ms/step - loss: 1.9412 - accuracy: 0.2522\n",
            "Epoch 3/10\n",
            "360/360 [==============================] - 2s 5ms/step - loss: 1.8582 - accuracy: 0.2812\n",
            "Epoch 4/10\n",
            "360/360 [==============================] - 2s 5ms/step - loss: 1.8071 - accuracy: 0.3005\n",
            "Epoch 5/10\n",
            "360/360 [==============================] - 2s 5ms/step - loss: 1.7668 - accuracy: 0.3144\n",
            "Epoch 6/10\n",
            "360/360 [==============================] - 2s 6ms/step - loss: 1.7283 - accuracy: 0.3311\n",
            "Epoch 7/10\n",
            "360/360 [==============================] - 2s 5ms/step - loss: 1.7052 - accuracy: 0.3346\n",
            "Epoch 8/10\n",
            "360/360 [==============================] - 2s 5ms/step - loss: 1.6667 - accuracy: 0.3498\n",
            "Epoch 9/10\n",
            "360/360 [==============================] - 2s 5ms/step - loss: 1.6483 - accuracy: 0.3610\n",
            "Epoch 10/10\n",
            "360/360 [==============================] - 2s 5ms/step - loss: 1.6245 - accuracy: 0.3717\n",
            "844/844 [==============================] - 3s 4ms/step - loss: 1.0943 - accuracy: 0.7063\n",
            "Test loss: 1.0943\n",
            "Test accuracy: 0.7063\n",
            "844/844 [==============================] - 2s 2ms/step\n",
            "844/844 [==============================] - 2s 2ms/step\n",
            "Iteration: 10\n",
            "Number of labeled samples: 25000\n",
            "Number of remaining samples: 25000\n"
          ]
        }
      ],
      "source": [
        "#active learning loop\n",
        "num_iterations = 10\n",
        "for iteration in range(num_iterations):\n",
        "  model = tf.keras.Sequential([\n",
        "    tf.keras.layers.Conv2D(16, (3, 3), padding='same', activation='relu', input_shape=(32, 32, 3)),\n",
        "    tf.keras.layers.MaxPooling2D(pool_size=(2, 2)),\n",
        "    tf.keras.layers.Dropout(0.25),\n",
        "    tf.keras.layers.Conv2D(32, (3, 3), padding='same', activation='relu'),\n",
        "    tf.keras.layers.MaxPooling2D(pool_size=(2, 2)),\n",
        "    tf.keras.layers.Dropout(0.25),\n",
        "    tf.keras.layers.Flatten(),\n",
        "    tf.keras.layers.Dense(128, activation='relu'),\n",
        "    tf.keras.layers.Dropout(0.5),\n",
        "    tf.keras.layers.Dense(10, activation='softmax')\n",
        "  ])\n",
        "\n",
        "#   model = tf.keras.Sequential([\n",
        "#     tf.keras.layers.Conv2D(16, (3, 3), padding='same', activation='relu', input_shape=(32, 32, 3)),\n",
        "#     tf.keras.layers.MaxPooling2D(pool_size=(2, 2)),\n",
        "#     tf.keras.layers.Flatten(),\n",
        "#     tf.keras.layers.Dense(128, activation='relu'),\n",
        "#     tf.keras.layers.Dense(10, activation='softmax')\n",
        "# ])\n",
        "\n",
        "  model.compile(optimizer='adam', loss='categorical_crossentropy', metrics=['accuracy'])\n",
        "  model.fit(selected_x_train, selected_y_train, batch_size=64, epochs=10)\n",
        "  loss, accuracy = model.evaluate(remaining_x_train, remaining_y_train)\n",
        "  print(f'Test loss: {loss:.4f}')\n",
        "  print(f'Test accuracy: {accuracy:.4f}')\n",
        "  #Select additional samples from remaining entries for labeling\n",
        "  num_additional_samples = 2000\n",
        "\n",
        "  # Get predicted probabilities for test data\n",
        "  probabilities = model.predict(remaining_x_train)\n",
        "\n",
        "  # Get the class labels with the highest probability\n",
        "  predictions_int = np.argmax(probabilities, axis=1)\n",
        "\n",
        "  # Get predicted probabilities for test data\n",
        "  probabilities = model.predict(remaining_x_train)\n",
        "\n",
        "  # Get the highest probability for each sample\n",
        "  max_probabilities = np.max(probabilities, axis=1)\n",
        "\n",
        "  for i in range(len(predictions_int)):\n",
        "    if predictions_int[i] != remaining_y_train1[i]:\n",
        "      max_probabilities[i] = 0\n",
        "\n",
        "  #additional_indices = np.argsort(np.max(predictions, axis=1))[-num_additional_samples:]\n",
        "  num_additional_samples = 2000\n",
        "  # additional_indices = np.argsort(np.max(max_probabilities))[:num_additional_samples]\n",
        "  additional_indices = np.argsort(max_probabilities)[:num_additional_samples]\n",
        "\n",
        "  # Add the additional samples to the selected dataset\n",
        "  selected_x_train = np.concatenate((selected_x_train, remaining_x_train[additional_indices]))\n",
        "  selected_y_train = np.concatenate((selected_y_train, remaining_y_train[additional_indices]))\n",
        "\n",
        "  # Remove the additional samples from the remaining dataset\n",
        "  remaining_x_train = np.delete(remaining_x_train, additional_indices, axis=0)\n",
        "  remaining_y_train = np.delete(remaining_y_train, additional_indices, axis=0)\n",
        "  remaining_y_train1 = np.delete(remaining_y_train1, additional_indices, axis=0)\n",
        "\n",
        "  print(\"Iteration:\", iteration + 1)\n",
        "  print(\"Number of labeled samples:\", len(selected_x_train))\n",
        "  print(\"Number of remaining samples:\", len(remaining_x_train))"
      ]
    },
    {
      "cell_type": "code",
      "execution_count": null,
      "metadata": {
        "id": "mvCHpQEbrQdn",
        "colab": {
          "base_uri": "https://localhost:8080/"
        },
        "outputId": "35a68a26-b385-4e3b-a9f6-c92d1ebd40d9"
      },
      "outputs": [
        {
          "output_type": "stream",
          "name": "stdout",
          "text": [
            "Epoch 1/10\n",
            "391/391 [==============================] - 5s 6ms/step - loss: 2.1050 - accuracy: 0.1971\n",
            "Epoch 2/10\n",
            "391/391 [==============================] - 2s 5ms/step - loss: 1.8888 - accuracy: 0.2631\n",
            "Epoch 3/10\n",
            "391/391 [==============================] - 2s 5ms/step - loss: 1.8137 - accuracy: 0.2886\n",
            "Epoch 4/10\n",
            "391/391 [==============================] - 2s 5ms/step - loss: 1.7573 - accuracy: 0.3083\n",
            "Epoch 5/10\n",
            "391/391 [==============================] - 2s 5ms/step - loss: 1.7092 - accuracy: 0.3280\n",
            "Epoch 6/10\n",
            "391/391 [==============================] - 2s 6ms/step - loss: 1.6738 - accuracy: 0.3456\n",
            "Epoch 7/10\n",
            "391/391 [==============================] - 2s 6ms/step - loss: 1.6397 - accuracy: 0.3586\n",
            "Epoch 8/10\n",
            "391/391 [==============================] - 2s 5ms/step - loss: 1.6083 - accuracy: 0.3730\n",
            "Epoch 9/10\n",
            "391/391 [==============================] - 2s 5ms/step - loss: 1.5794 - accuracy: 0.3867\n",
            "Epoch 10/10\n",
            "391/391 [==============================] - 2s 5ms/step - loss: 1.5547 - accuracy: 0.3979\n"
          ]
        },
        {
          "output_type": "execute_result",
          "data": {
            "text/plain": [
              "<keras.callbacks.History at 0x7fc9bc0ec820>"
            ]
          },
          "metadata": {},
          "execution_count": 16
        }
      ],
      "source": [
        "model = tf.keras.Sequential([\n",
        "    tf.keras.layers.Conv2D(16, (3, 3), padding='same', activation='relu', input_shape=(32, 32, 3)),\n",
        "    tf.keras.layers.MaxPooling2D(pool_size=(2, 2)),\n",
        "    tf.keras.layers.Dropout(0.25),\n",
        "    tf.keras.layers.Conv2D(32, (3, 3), padding='same', activation='relu'),\n",
        "    tf.keras.layers.MaxPooling2D(pool_size=(2, 2)),\n",
        "    tf.keras.layers.Dropout(0.25),\n",
        "    tf.keras.layers.Flatten(),\n",
        "    tf.keras.layers.Dense(128, activation='relu'),\n",
        "    tf.keras.layers.Dropout(0.5),\n",
        "    tf.keras.layers.Dense(10, activation='softmax')\n",
        "  ])\n",
        "\n",
        "# model = tf.keras.Sequential([\n",
        "#     tf.keras.layers.Conv2D(16, (3, 3), padding='same', activation='relu', input_shape=(32, 32, 3)),\n",
        "#     tf.keras.layers.MaxPooling2D(pool_size=(2, 2)),\n",
        "#     tf.keras.layers.Flatten(),\n",
        "#     tf.keras.layers.Dense(128, activation='relu'),\n",
        "#     tf.keras.layers.Dense(10, activation='softmax')\n",
        "# ])\n",
        "\n",
        "model.compile(optimizer='adam', loss='categorical_crossentropy', metrics=['accuracy'])\n",
        "model.fit(selected_x_train, selected_y_train, batch_size=64, epochs=10)"
      ]
    },
    {
      "cell_type": "code",
      "execution_count": null,
      "metadata": {
        "id": "sp5WCUJ0sEWW",
        "colab": {
          "base_uri": "https://localhost:8080/"
        },
        "outputId": "37659b78-f973-4d49-c014-59574d764841"
      },
      "outputs": [
        {
          "output_type": "stream",
          "name": "stdout",
          "text": [
            "313/313 [==============================] - 1s 3ms/step - loss: 1.2045 - accuracy: 0.5968\n",
            "Test loss: 1.2045\n",
            "Test accuracy: 0.5968\n"
          ]
        }
      ],
      "source": [
        "loss, accuracy = model.evaluate(x_test, y_test)\n",
        "print(f'Test loss: {loss:.4f}')\n",
        "print(f'Test accuracy: {accuracy:.4f}')"
      ]
    },
    {
      "cell_type": "code",
      "source": [],
      "metadata": {
        "id": "35XovMoW4o_o"
      },
      "execution_count": null,
      "outputs": []
    },
    {
      "cell_type": "markdown",
      "source": [
        "Without correctness"
      ],
      "metadata": {
        "id": "_4JldExFWEAw"
      }
    },
    {
      "cell_type": "code",
      "source": [
        "num_entries = min(5000, len(y_train))\n",
        "max_index = len(x_train)\n",
        "random_indices = np.random.choice(max_index, size=num_entries, replace=False)\n",
        "\n",
        "# Select random entries\n",
        "y_train = np.array(y_train)\n",
        "selected_x_train = x_train[random_indices]\n",
        "selected_y_train = y_train[random_indices]\n",
        "\n",
        "remaining_indices = np.setdiff1d(np.arange(max_index), random_indices)\n",
        "remaining_x_train = x_train[remaining_indices]\n",
        "remaining_y_train = y_train[remaining_indices]\n",
        "\n",
        "(x_train1, y_train1), (x_test1, y_test1) = cifar10.load_data()\n",
        "remaining_x_train1 = x_train1[remaining_indices]\n",
        "remaining_y_train1 = y_train1[remaining_indices]"
      ],
      "metadata": {
        "id": "DC-p7aa9Wi8J"
      },
      "execution_count": null,
      "outputs": []
    },
    {
      "cell_type": "code",
      "source": [
        "#active learning loop\n",
        "num_iterations = 10\n",
        "for iteration in range(num_iterations):\n",
        "  model = tf.keras.Sequential([\n",
        "    tf.keras.layers.Conv2D(16, (3, 3), padding='same', activation='relu', input_shape=(32, 32, 3)),\n",
        "    tf.keras.layers.MaxPooling2D(pool_size=(2, 2)),\n",
        "    tf.keras.layers.Dropout(0.25),\n",
        "    tf.keras.layers.Conv2D(32, (3, 3), padding='same', activation='relu'),\n",
        "    tf.keras.layers.MaxPooling2D(pool_size=(2, 2)),\n",
        "    tf.keras.layers.Dropout(0.25),\n",
        "    tf.keras.layers.Flatten(),\n",
        "    tf.keras.layers.Dense(128, activation='relu'),\n",
        "    tf.keras.layers.Dropout(0.5),\n",
        "    tf.keras.layers.Dense(10, activation='softmax')\n",
        "  ])\n",
        "\n",
        "#   model = tf.keras.Sequential([\n",
        "#     tf.keras.layers.Conv2D(16, (3, 3), padding='same', activation='relu', input_shape=(32, 32, 3)),\n",
        "#     tf.keras.layers.MaxPooling2D(pool_size=(2, 2)),\n",
        "#     tf.keras.layers.Flatten(),\n",
        "#     tf.keras.layers.Dense(128, activation='relu'),\n",
        "#     tf.keras.layers.Dense(10, activation='softmax')\n",
        "# ])\n",
        "\n",
        "  model.compile(optimizer='adam', loss='categorical_crossentropy', metrics=['accuracy'])\n",
        "  model.fit(selected_x_train, selected_y_train, batch_size=64, epochs=10)\n",
        "  loss, accuracy = model.evaluate(remaining_x_train, remaining_y_train)\n",
        "  print(f'Test loss: {loss:.4f}')\n",
        "  print(f'Test accuracy: {accuracy:.4f}')\n",
        "\n",
        "  #additional_indices = np.argsort(np.max(predictions, axis=1))[-num_additional_samples:]\n",
        "  num_additional_samples = 2000\n",
        "  # additional_indices = np.argsort(np.max(max_probabilities))[:num_additional_samples]\n",
        "  additional_indices = np.argsort(max_probabilities)[:num_additional_samples]\n",
        "\n",
        "  # Add the additional samples to the selected dataset\n",
        "  selected_x_train = np.concatenate((selected_x_train, remaining_x_train[additional_indices]))\n",
        "  selected_y_train = np.concatenate((selected_y_train, remaining_y_train[additional_indices]))\n",
        "\n",
        "  # Remove the additional samples from the remaining dataset\n",
        "  remaining_x_train = np.delete(remaining_x_train, additional_indices, axis=0)\n",
        "  remaining_y_train = np.delete(remaining_y_train, additional_indices, axis=0)\n",
        "  remaining_y_train1 = np.delete(remaining_y_train1, additional_indices, axis=0)\n",
        "\n",
        "  print(\"Iteration:\", iteration + 1)\n",
        "  print(\"Number of labeled samples:\", len(selected_x_train))\n",
        "  print(\"Number of remaining samples:\", len(remaining_x_train))"
      ],
      "metadata": {
        "id": "ewlSpZTfWGJo"
      },
      "execution_count": null,
      "outputs": []
    },
    {
      "cell_type": "code",
      "source": [
        "model = tf.keras.Sequential([\n",
        "    tf.keras.layers.Conv2D(16, (3, 3), padding='same', activation='relu', input_shape=(32, 32, 3)),\n",
        "    tf.keras.layers.MaxPooling2D(pool_size=(2, 2)),\n",
        "    tf.keras.layers.Dropout(0.25),\n",
        "    tf.keras.layers.Conv2D(32, (3, 3), padding='same', activation='relu'),\n",
        "    tf.keras.layers.MaxPooling2D(pool_size=(2, 2)),\n",
        "    tf.keras.layers.Dropout(0.25),\n",
        "    tf.keras.layers.Flatten(),\n",
        "    tf.keras.layers.Dense(128, activation='relu'),\n",
        "    tf.keras.layers.Dropout(0.5),\n",
        "    tf.keras.layers.Dense(10, activation='softmax')\n",
        "  ])\n",
        "\n",
        "# model = tf.keras.Sequential([\n",
        "#     tf.keras.layers.Conv2D(16, (3, 3), padding='same', activation='relu', input_shape=(32, 32, 3)),\n",
        "#     tf.keras.layers.MaxPooling2D(pool_size=(2, 2)),\n",
        "#     tf.keras.layers.Flatten(),\n",
        "#     tf.keras.layers.Dense(128, activation='relu'),\n",
        "#     tf.keras.layers.Dense(10, activation='softmax')\n",
        "# ])\n",
        "\n",
        "model.compile(optimizer='adam', loss='categorical_crossentropy', metrics=['accuracy'])\n",
        "model.fit(selected_x_train, selected_y_train, batch_size=64, epochs=10)"
      ],
      "metadata": {
        "id": "yq-sSCVNWQcd"
      },
      "execution_count": null,
      "outputs": []
    },
    {
      "cell_type": "code",
      "source": [
        "loss, accuracy = model.evaluate(x_test, y_test)\n",
        "print(f'Test loss: {loss:.4f}')\n",
        "print(f'Test accuracy: {accuracy:.4f}')"
      ],
      "metadata": {
        "id": "El-xdF1yWRT2"
      },
      "execution_count": null,
      "outputs": []
    },
    {
      "cell_type": "markdown",
      "source": [
        "Different Baseline"
      ],
      "metadata": {
        "id": "uFKj4smHWTfK"
      }
    },
    {
      "cell_type": "code",
      "source": [
        "num_entries = min(10000, len(y_train))\n",
        "max_index = len(x_train)\n",
        "random_indices = np.random.choice(max_index, size=num_entries, replace=False)\n",
        "\n",
        "# Select random entries\n",
        "y_train = np.array(y_train)\n",
        "selected_x_train = x_train[random_indices]\n",
        "selected_y_train = y_train[random_indices]\n",
        "\n",
        "remaining_indices = np.setdiff1d(np.arange(max_index), random_indices)\n",
        "remaining_x_train = x_train[remaining_indices]\n",
        "remaining_y_train = y_train[remaining_indices]\n",
        "\n",
        "(x_train1, y_train1), (x_test1, y_test1) = cifar10.load_data()\n",
        "remaining_x_train1 = x_train1[remaining_indices]\n",
        "remaining_y_train1 = y_train1[remaining_indices]"
      ],
      "metadata": {
        "id": "isZ4lhlTWWgc"
      },
      "execution_count": null,
      "outputs": []
    },
    {
      "cell_type": "code",
      "source": [
        "#active learning loop\n",
        "num_iterations = 10\n",
        "for iteration in range(num_iterations):\n",
        "  model = tf.keras.Sequential([\n",
        "    tf.keras.layers.Conv2D(16, (3, 3), padding='same', activation='relu', input_shape=(32, 32, 3)),\n",
        "    tf.keras.layers.MaxPooling2D(pool_size=(2, 2)),\n",
        "    tf.keras.layers.Dropout(0.25),\n",
        "    tf.keras.layers.Conv2D(32, (3, 3), padding='same', activation='relu'),\n",
        "    tf.keras.layers.MaxPooling2D(pool_size=(2, 2)),\n",
        "    tf.keras.layers.Dropout(0.25),\n",
        "    tf.keras.layers.Flatten(),\n",
        "    tf.keras.layers.Dense(128, activation='relu'),\n",
        "    tf.keras.layers.Dropout(0.5),\n",
        "    tf.keras.layers.Dense(10, activation='softmax')\n",
        "  ])\n",
        "\n",
        "#   model = tf.keras.Sequential([\n",
        "#     tf.keras.layers.Conv2D(16, (3, 3), padding='same', activation='relu', input_shape=(32, 32, 3)),\n",
        "#     tf.keras.layers.MaxPooling2D(pool_size=(2, 2)),\n",
        "#     tf.keras.layers.Flatten(),\n",
        "#     tf.keras.layers.Dense(128, activation='relu'),\n",
        "#     tf.keras.layers.Dense(10, activation='softmax')\n",
        "# ])\n",
        "\n",
        "  model.compile(optimizer='adam', loss='categorical_crossentropy', metrics=['accuracy'])\n",
        "  model.fit(selected_x_train, selected_y_train, batch_size=64, epochs=10)\n",
        "  loss, accuracy = model.evaluate(remaining_x_train, remaining_y_train)\n",
        "  print(f'Test loss: {loss:.4f}')\n",
        "  print(f'Test accuracy: {accuracy:.4f}')\n",
        "\n",
        "  # Get predicted probabilities for test data\n",
        "  probabilities = model.predict(remaining_x_train)\n",
        "\n",
        "  # Get the class labels with the highest probability\n",
        "  predictions_int = np.argmax(probabilities, axis=1)\n",
        "\n",
        "  # Get predicted probabilities for test data\n",
        "  probabilities = model.predict(remaining_x_train)\n",
        "\n",
        "  # Get the highest probability for each sample\n",
        "  max_probabilities = np.max(probabilities, axis=1)\n",
        "\n",
        "  for i in range(len(predictions_int)):\n",
        "    if predictions_int[i] != remaining_y_train1[i]:\n",
        "      max_probabilities[i] = 0\n",
        "\n",
        "  #additional_indices = np.argsort(np.max(predictions, axis=1))[-num_additional_samples:]\n",
        "  num_additional_samples = 1000\n",
        "  # additional_indices = np.argsort(np.max(max_probabilities))[:num_additional_samples]\n",
        "  additional_indices = np.argsort(max_probabilities)[:num_additional_samples]\n",
        "\n",
        "  # Add the additional samples to the selected dataset\n",
        "  selected_x_train = np.concatenate((selected_x_train, remaining_x_train[additional_indices]))\n",
        "  selected_y_train = np.concatenate((selected_y_train, remaining_y_train[additional_indices]))\n",
        "\n",
        "  # Remove the additional samples from the remaining dataset\n",
        "  remaining_x_train = np.delete(remaining_x_train, additional_indices, axis=0)\n",
        "  remaining_y_train = np.delete(remaining_y_train, additional_indices, axis=0)\n",
        "  remaining_y_train1 = np.delete(remaining_y_train1, additional_indices, axis=0)\n",
        "\n",
        "  print(\"Iteration:\", iteration + 1)\n",
        "  print(\"Number of labeled samples:\", len(selected_x_train))\n",
        "  print(\"Number of remaining samples:\", len(remaining_x_train))"
      ],
      "metadata": {
        "id": "E7WiuRAsW2DH",
        "colab": {
          "base_uri": "https://localhost:8080/"
        },
        "outputId": "be35d738-9ceb-4acc-ce1a-3cab1a156fb3"
      },
      "execution_count": null,
      "outputs": [
        {
          "output_type": "stream",
          "name": "stdout",
          "text": [
            "Epoch 1/10\n",
            "157/157 [==============================] - 2s 5ms/step - loss: 2.1489 - accuracy: 0.1975\n",
            "Epoch 2/10\n",
            "157/157 [==============================] - 1s 5ms/step - loss: 1.8099 - accuracy: 0.3341\n",
            "Epoch 3/10\n",
            "157/157 [==============================] - 1s 5ms/step - loss: 1.6548 - accuracy: 0.3943\n",
            "Epoch 4/10\n",
            "157/157 [==============================] - 1s 5ms/step - loss: 1.5706 - accuracy: 0.4302\n",
            "Epoch 5/10\n",
            "157/157 [==============================] - 1s 5ms/step - loss: 1.5119 - accuracy: 0.4582\n",
            "Epoch 6/10\n",
            "157/157 [==============================] - 1s 5ms/step - loss: 1.4447 - accuracy: 0.4748\n",
            "Epoch 7/10\n",
            "157/157 [==============================] - 1s 5ms/step - loss: 1.4081 - accuracy: 0.4911\n",
            "Epoch 8/10\n",
            "157/157 [==============================] - 1s 6ms/step - loss: 1.3720 - accuracy: 0.5086\n",
            "Epoch 9/10\n",
            "157/157 [==============================] - 1s 6ms/step - loss: 1.3464 - accuracy: 0.5188\n",
            "Epoch 10/10\n",
            "157/157 [==============================] - 1s 6ms/step - loss: 1.3165 - accuracy: 0.5281\n",
            "1250/1250 [==============================] - 4s 3ms/step - loss: 1.2628 - accuracy: 0.5534\n",
            "Test loss: 1.2628\n",
            "Test accuracy: 0.5534\n",
            "1250/1250 [==============================] - 3s 2ms/step\n",
            "1250/1250 [==============================] - 2s 2ms/step\n",
            "Iteration: 1\n",
            "Number of labeled samples: 11000\n",
            "Number of remaining samples: 39000\n",
            "Epoch 1/10\n",
            "172/172 [==============================] - 2s 5ms/step - loss: 2.0759 - accuracy: 0.2248\n",
            "Epoch 2/10\n",
            "172/172 [==============================] - 1s 5ms/step - loss: 1.7790 - accuracy: 0.3449\n",
            "Epoch 3/10\n",
            "172/172 [==============================] - 1s 6ms/step - loss: 1.6476 - accuracy: 0.3873\n",
            "Epoch 4/10\n",
            "172/172 [==============================] - 1s 7ms/step - loss: 1.5591 - accuracy: 0.4239\n",
            "Epoch 5/10\n",
            "172/172 [==============================] - 1s 7ms/step - loss: 1.5011 - accuracy: 0.4384\n",
            "Epoch 6/10\n",
            "172/172 [==============================] - 1s 6ms/step - loss: 1.4488 - accuracy: 0.4693\n",
            "Epoch 7/10\n",
            "172/172 [==============================] - 1s 5ms/step - loss: 1.4275 - accuracy: 0.4805\n",
            "Epoch 8/10\n",
            "172/172 [==============================] - 1s 5ms/step - loss: 1.3691 - accuracy: 0.4978\n",
            "Epoch 9/10\n",
            "172/172 [==============================] - 1s 5ms/step - loss: 1.3420 - accuracy: 0.5090\n",
            "Epoch 10/10\n",
            "172/172 [==============================] - 1s 5ms/step - loss: 1.3068 - accuracy: 0.5180\n",
            "1219/1219 [==============================] - 4s 3ms/step - loss: 1.1812 - accuracy: 0.5867\n",
            "Test loss: 1.1812\n",
            "Test accuracy: 0.5867\n",
            "1219/1219 [==============================] - 3s 2ms/step\n",
            "1219/1219 [==============================] - 2s 2ms/step\n",
            "Iteration: 2\n",
            "Number of labeled samples: 12000\n",
            "Number of remaining samples: 38000\n",
            "Epoch 1/10\n",
            "188/188 [==============================] - 3s 7ms/step - loss: 2.1347 - accuracy: 0.1977\n",
            "Epoch 2/10\n",
            "188/188 [==============================] - 1s 6ms/step - loss: 1.8615 - accuracy: 0.3092\n",
            "Epoch 3/10\n",
            "188/188 [==============================] - 1s 5ms/step - loss: 1.7442 - accuracy: 0.3510\n",
            "Epoch 4/10\n",
            "188/188 [==============================] - 1s 5ms/step - loss: 1.6657 - accuracy: 0.3814\n",
            "Epoch 5/10\n",
            "188/188 [==============================] - 1s 5ms/step - loss: 1.6215 - accuracy: 0.4030\n",
            "Epoch 6/10\n",
            "188/188 [==============================] - 1s 5ms/step - loss: 1.5736 - accuracy: 0.4202\n",
            "Epoch 7/10\n",
            "188/188 [==============================] - 1s 5ms/step - loss: 1.5498 - accuracy: 0.4220\n",
            "Epoch 8/10\n",
            "188/188 [==============================] - 1s 5ms/step - loss: 1.4980 - accuracy: 0.4457\n",
            "Epoch 9/10\n",
            "188/188 [==============================] - 1s 5ms/step - loss: 1.4742 - accuracy: 0.4563\n",
            "Epoch 10/10\n",
            "188/188 [==============================] - 1s 5ms/step - loss: 1.4404 - accuracy: 0.4673\n",
            "1188/1188 [==============================] - 4s 3ms/step - loss: 1.2427 - accuracy: 0.5691\n",
            "Test loss: 1.2427\n",
            "Test accuracy: 0.5691\n",
            "1188/1188 [==============================] - 2s 2ms/step\n",
            "1188/1188 [==============================] - 2s 2ms/step\n",
            "Iteration: 3\n",
            "Number of labeled samples: 13000\n",
            "Number of remaining samples: 37000\n",
            "Epoch 1/10\n",
            "204/204 [==============================] - 3s 5ms/step - loss: 2.1359 - accuracy: 0.2017\n",
            "Epoch 2/10\n",
            "204/204 [==============================] - 1s 5ms/step - loss: 1.8644 - accuracy: 0.3028\n",
            "Epoch 3/10\n",
            "204/204 [==============================] - 1s 5ms/step - loss: 1.7493 - accuracy: 0.3438\n",
            "Epoch 4/10\n",
            "204/204 [==============================] - 1s 5ms/step - loss: 1.6723 - accuracy: 0.3752\n",
            "Epoch 5/10\n",
            "204/204 [==============================] - 1s 5ms/step - loss: 1.5972 - accuracy: 0.4064\n",
            "Epoch 6/10\n",
            "204/204 [==============================] - 1s 5ms/step - loss: 1.5593 - accuracy: 0.4192\n",
            "Epoch 7/10\n",
            "204/204 [==============================] - 1s 5ms/step - loss: 1.5245 - accuracy: 0.4355\n",
            "Epoch 8/10\n",
            "204/204 [==============================] - 1s 5ms/step - loss: 1.4904 - accuracy: 0.4507\n",
            "Epoch 9/10\n",
            "204/204 [==============================] - 1s 6ms/step - loss: 1.4595 - accuracy: 0.4597\n",
            "Epoch 10/10\n",
            "204/204 [==============================] - 1s 6ms/step - loss: 1.4119 - accuracy: 0.4748\n",
            "1157/1157 [==============================] - 4s 4ms/step - loss: 1.1898 - accuracy: 0.6002\n",
            "Test loss: 1.1898\n",
            "Test accuracy: 0.6002\n",
            "1157/1157 [==============================] - 3s 2ms/step\n",
            "1157/1157 [==============================] - 2s 2ms/step\n",
            "Iteration: 4\n",
            "Number of labeled samples: 14000\n",
            "Number of remaining samples: 36000\n",
            "Epoch 1/10\n",
            "219/219 [==============================] - 3s 6ms/step - loss: 2.1175 - accuracy: 0.2029\n",
            "Epoch 2/10\n",
            "219/219 [==============================] - 1s 5ms/step - loss: 1.8659 - accuracy: 0.3006\n",
            "Epoch 3/10\n",
            "219/219 [==============================] - 1s 5ms/step - loss: 1.7298 - accuracy: 0.3466\n",
            "Epoch 4/10\n",
            "219/219 [==============================] - 1s 5ms/step - loss: 1.6637 - accuracy: 0.3727\n",
            "Epoch 5/10\n",
            "219/219 [==============================] - 1s 5ms/step - loss: 1.6023 - accuracy: 0.3976\n",
            "Epoch 6/10\n",
            "219/219 [==============================] - 1s 5ms/step - loss: 1.5580 - accuracy: 0.4126\n",
            "Epoch 7/10\n",
            "219/219 [==============================] - 1s 6ms/step - loss: 1.5168 - accuracy: 0.4266\n",
            "Epoch 8/10\n",
            "219/219 [==============================] - 1s 6ms/step - loss: 1.4838 - accuracy: 0.4366\n",
            "Epoch 9/10\n",
            "219/219 [==============================] - 1s 6ms/step - loss: 1.4452 - accuracy: 0.4557\n",
            "Epoch 10/10\n",
            "219/219 [==============================] - 1s 5ms/step - loss: 1.4318 - accuracy: 0.4641\n",
            "1125/1125 [==============================] - 3s 3ms/step - loss: 1.1955 - accuracy: 0.6005\n",
            "Test loss: 1.1955\n",
            "Test accuracy: 0.6005\n",
            "1125/1125 [==============================] - 2s 2ms/step\n",
            "1125/1125 [==============================] - 3s 3ms/step\n",
            "Iteration: 5\n",
            "Number of labeled samples: 15000\n",
            "Number of remaining samples: 35000\n",
            "Epoch 1/10\n",
            "235/235 [==============================] - 3s 5ms/step - loss: 2.0505 - accuracy: 0.2330\n",
            "Epoch 2/10\n",
            "235/235 [==============================] - 1s 5ms/step - loss: 1.8145 - accuracy: 0.3173\n",
            "Epoch 3/10\n",
            "235/235 [==============================] - 1s 5ms/step - loss: 1.7032 - accuracy: 0.3544\n",
            "Epoch 4/10\n",
            "235/235 [==============================] - 1s 5ms/step - loss: 1.6496 - accuracy: 0.3839\n",
            "Epoch 5/10\n",
            "235/235 [==============================] - 1s 5ms/step - loss: 1.5914 - accuracy: 0.4017\n",
            "Epoch 6/10\n",
            "235/235 [==============================] - 1s 5ms/step - loss: 1.5475 - accuracy: 0.4175\n",
            "Epoch 7/10\n",
            "235/235 [==============================] - 1s 6ms/step - loss: 1.5070 - accuracy: 0.4373\n",
            "Epoch 8/10\n",
            "235/235 [==============================] - 1s 6ms/step - loss: 1.4712 - accuracy: 0.4449\n",
            "Epoch 9/10\n",
            "235/235 [==============================] - 1s 5ms/step - loss: 1.4389 - accuracy: 0.4645\n",
            "Epoch 10/10\n",
            "235/235 [==============================] - 1s 5ms/step - loss: 1.4114 - accuracy: 0.4697\n",
            "1094/1094 [==============================] - 4s 3ms/step - loss: 1.1455 - accuracy: 0.6209\n",
            "Test loss: 1.1455\n",
            "Test accuracy: 0.6209\n",
            "1094/1094 [==============================] - 2s 2ms/step\n",
            "1094/1094 [==============================] - 2s 2ms/step\n",
            "Iteration: 6\n",
            "Number of labeled samples: 16000\n",
            "Number of remaining samples: 34000\n",
            "Epoch 1/10\n",
            "250/250 [==============================] - 3s 5ms/step - loss: 2.0822 - accuracy: 0.2107\n",
            "Epoch 2/10\n",
            "250/250 [==============================] - 1s 4ms/step - loss: 1.8519 - accuracy: 0.2932\n",
            "Epoch 3/10\n",
            "250/250 [==============================] - 1s 5ms/step - loss: 1.7497 - accuracy: 0.3306\n",
            "Epoch 4/10\n",
            "250/250 [==============================] - 2s 7ms/step - loss: 1.6843 - accuracy: 0.3683\n",
            "Epoch 5/10\n",
            "250/250 [==============================] - 1s 5ms/step - loss: 1.6239 - accuracy: 0.3817\n",
            "Epoch 6/10\n",
            "250/250 [==============================] - 1s 4ms/step - loss: 1.5833 - accuracy: 0.4031\n",
            "Epoch 7/10\n",
            "250/250 [==============================] - 1s 4ms/step - loss: 1.5331 - accuracy: 0.4207\n",
            "Epoch 8/10\n",
            "250/250 [==============================] - 1s 4ms/step - loss: 1.5014 - accuracy: 0.4294\n",
            "Epoch 9/10\n",
            "250/250 [==============================] - 1s 4ms/step - loss: 1.4650 - accuracy: 0.4502\n",
            "Epoch 10/10\n",
            "250/250 [==============================] - 1s 4ms/step - loss: 1.4465 - accuracy: 0.4531\n",
            "1063/1063 [==============================] - 3s 3ms/step - loss: 1.1295 - accuracy: 0.6376\n",
            "Test loss: 1.1295\n",
            "Test accuracy: 0.6376\n",
            "1063/1063 [==============================] - 2s 2ms/step\n",
            "1063/1063 [==============================] - 2s 2ms/step\n",
            "Iteration: 7\n",
            "Number of labeled samples: 17000\n",
            "Number of remaining samples: 33000\n",
            "Epoch 1/10\n",
            "266/266 [==============================] - 3s 5ms/step - loss: 2.0502 - accuracy: 0.2216\n",
            "Epoch 2/10\n",
            "266/266 [==============================] - 1s 5ms/step - loss: 1.8281 - accuracy: 0.3009\n",
            "Epoch 3/10\n",
            "266/266 [==============================] - 2s 6ms/step - loss: 1.7312 - accuracy: 0.3431\n",
            "Epoch 4/10\n",
            "266/266 [==============================] - 2s 6ms/step - loss: 1.6736 - accuracy: 0.3651\n",
            "Epoch 5/10\n",
            "266/266 [==============================] - 1s 5ms/step - loss: 1.6068 - accuracy: 0.3897\n",
            "Epoch 6/10\n",
            "266/266 [==============================] - 1s 5ms/step - loss: 1.5599 - accuracy: 0.4063\n",
            "Epoch 7/10\n",
            "266/266 [==============================] - 2s 7ms/step - loss: 1.5244 - accuracy: 0.4222\n",
            "Epoch 8/10\n",
            "266/266 [==============================] - 2s 6ms/step - loss: 1.4919 - accuracy: 0.4412\n",
            "Epoch 9/10\n",
            "266/266 [==============================] - 1s 5ms/step - loss: 1.4577 - accuracy: 0.4553\n",
            "Epoch 10/10\n",
            "266/266 [==============================] - 1s 5ms/step - loss: 1.4237 - accuracy: 0.4645\n"
          ]
        }
      ]
    },
    {
      "cell_type": "code",
      "source": [
        "model = tf.keras.Sequential([\n",
        "    tf.keras.layers.Conv2D(16, (3, 3), padding='same', activation='relu', input_shape=(32, 32, 3)),\n",
        "    tf.keras.layers.MaxPooling2D(pool_size=(2, 2)),\n",
        "    tf.keras.layers.Dropout(0.25),\n",
        "    tf.keras.layers.Conv2D(32, (3, 3), padding='same', activation='relu'),\n",
        "    tf.keras.layers.MaxPooling2D(pool_size=(2, 2)),\n",
        "    tf.keras.layers.Dropout(0.25),\n",
        "    tf.keras.layers.Flatten(),\n",
        "    tf.keras.layers.Dense(128, activation='relu'),\n",
        "    tf.keras.layers.Dropout(0.5),\n",
        "    tf.keras.layers.Dense(10, activation='softmax')\n",
        "  ])\n",
        "\n",
        "# model = tf.keras.Sequential([\n",
        "#     tf.keras.layers.Conv2D(16, (3, 3), padding='same', activation='relu', input_shape=(32, 32, 3)),\n",
        "#     tf.keras.layers.MaxPooling2D(pool_size=(2, 2)),\n",
        "#     tf.keras.layers.Flatten(),\n",
        "#     tf.keras.layers.Dense(128, activation='relu'),\n",
        "#     tf.keras.layers.Dense(10, activation='softmax')\n",
        "# ])\n",
        "\n",
        "model.compile(optimizer='adam', loss='categorical_crossentropy', metrics=['accuracy'])\n",
        "model.fit(selected_x_train, selected_y_train, batch_size=64, epochs=10)"
      ],
      "metadata": {
        "id": "85AWKRrLLHVg"
      },
      "execution_count": null,
      "outputs": []
    },
    {
      "cell_type": "code",
      "source": [
        "loss, accuracy = model.evaluate(x_test, y_test)\n",
        "print(f'Test loss: {loss:.4f}')\n",
        "print(f'Test accuracy: {accuracy:.4f}')"
      ],
      "metadata": {
        "id": "Z8rYCVpkLKsX"
      },
      "execution_count": null,
      "outputs": []
    },
    {
      "cell_type": "code",
      "source": [],
      "metadata": {
        "id": "dryaBpn4wx6K"
      },
      "execution_count": null,
      "outputs": []
    }
  ],
  "metadata": {
    "colab": {
      "provenance": [],
      "gpuType": "T4",
      "authorship_tag": "ABX9TyOC4WF7iGHcBQQvpPG+E059",
      "include_colab_link": true
    },
    "kernelspec": {
      "display_name": "Python 3",
      "name": "python3"
    },
    "language_info": {
      "name": "python"
    },
    "accelerator": "GPU"
  },
  "nbformat": 4,
  "nbformat_minor": 0
}